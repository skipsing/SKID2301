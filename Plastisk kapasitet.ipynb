{
 "cells": [
  {
   "cell_type": "markdown",
   "id": "dc41acb8-80ee-4bbc-940c-db14b73623b7",
   "metadata": {},
   "source": [
    "# Plastisk kapasitet\n",
    "\n",
    "Vi har fra tidligere belastet bjelken til ytterste fiber når flytgrensen "
   ]
  }
 ],
 "metadata": {
  "kernelspec": {
   "display_name": "Python 3 (ipykernel)",
   "language": "python",
   "name": "python3"
  },
  "language_info": {
   "codemirror_mode": {
    "name": "ipython",
    "version": 3
   },
   "file_extension": ".py",
   "mimetype": "text/x-python",
   "name": "python",
   "nbconvert_exporter": "python",
   "pygments_lexer": "ipython3",
   "version": "3.9.7"
  }
 },
 "nbformat": 4,
 "nbformat_minor": 5
}

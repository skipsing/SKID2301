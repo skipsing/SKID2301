{
 "cells": [
  {
   "cell_type": "markdown",
   "id": "dc41acb8-80ee-4bbc-940c-db14b73623b7",
   "metadata": {},
   "source": [
    "# Plastisitet\n",
    "\n",
    "Vi har fra tidligere belastet bjelken til ytterste fiber i tverrsnittet når flytgrensen $\\sigma_{f}$\n",
    "\n",
    "Vi skal her vise at det er ytterligere kapasitet i bjelketverrsnittet før det går i brudd. \n",
    "\n"
   ]
  },
  {
   "cell_type": "code",
   "execution_count": null,
   "id": "f6b574b9-d850-4e4b-bd22-d4c3aa0f2001",
   "metadata": {},
   "outputs": [],
   "source": []
  }
 ],
 "metadata": {
  "kernelspec": {
   "display_name": "Python 3 (ipykernel)",
   "language": "python",
   "name": "python3"
  },
  "language_info": {
   "codemirror_mode": {
    "name": "ipython",
    "version": 3
   },
   "file_extension": ".py",
   "mimetype": "text/x-python",
   "name": "python",
   "nbconvert_exporter": "python",
   "pygments_lexer": "ipython3",
   "version": "3.9.7"
  }
 },
 "nbformat": 4,
 "nbformat_minor": 5
}
